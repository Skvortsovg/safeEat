{
 "cells": [
  {
   "cell_type": "code",
   "execution_count": 69,
   "metadata": {},
   "outputs": [],
   "source": [
    "import pymysql"
   ]
  },
  {
   "cell_type": "code",
   "execution_count": 70,
   "metadata": {
    "collapsed": true
   },
   "outputs": [],
   "source": [
    "from settings import DB_HOST, DB_NAME, DB_USER, DB_PASSWORD"
   ]
  },
  {
   "cell_type": "code",
   "execution_count": 89,
   "metadata": {
    "collapsed": true
   },
   "outputs": [],
   "source": [
    "connection = pymysql.connect(host=DB_HOST,\n",
    "                             user=DB_USER,\n",
    "                             password=DB_PASSWORD,\n",
    "                             db=DB_NAME,\n",
    "                             charset='utf8mb4',\n",
    "                             cursorclass=pymysql.cursors.DictCursor)"
   ]
  },
  {
   "cell_type": "code",
   "execution_count": 72,
   "metadata": {},
   "outputs": [],
   "source": [
    "def reg_user(args_dic):\n",
    "    with connection.cursor() as cursor:\n",
    "        sql = 'insert into users(name, sex, weight, height) values (%s, %s, %s, %s)'\n",
    "        cursor.execute(sql, (args_dic['name'], args_dic['sex'], args_dic['weight'], args_dic['height']))\n",
    "    connection.commit()"
   ]
  },
  {
   "cell_type": "code",
   "execution_count": null,
   "metadata": {
    "collapsed": true
   },
   "outputs": [],
   "source": [
    "d = {'name':'123', 'sex':1, 'weight':123, 'height':200}"
   ]
  },
  {
   "cell_type": "code",
   "execution_count": null,
   "metadata": {
    "collapsed": true
   },
   "outputs": [],
   "source": [
    "def reg_user(args_dic):\n",
    "    with connection.cursor() as cursor:\n",
    "        sql = 'insert into users(name, sex, weight, height) values (%s, %s, %s, %s)'\n",
    "        cursor.execute(sql, (args_dic['name'], args_dic['sex'], args_dic['weight'], args_dic['height']))\n",
    "    connection.commit()\n",
    "\n",
    "def set_usernorm(username, daily_norm_dic):\n",
    "    with connection.cursor() as cursor:\n",
    "        sql = 'insert into norm(calories, proteins, fats, carbohydrates, user_id) values (%s, %s, %s, %s, (select id from users where name=%s))'\n",
    "        cursor.execute(sql, (daily_norm_dic['calories'], daily_norm_dic['proteins'], daily_norm_dic['fats'], daily_norm_dic['carbohydrates'], username))\n",
    "    connection.commit()\n",
    "\n",
    "def get_daily_report(username):\n",
    "    with connection.cursor() as cursor:\n",
    "        sql = 'select calories, proteins, fats, carbohydrates from users where name=%s'\n",
    "        cursor.execute(sql, username)\n",
    "        return cursor.fetchall()\n",
    "\n",
    "def get_daily_norm(username):\n",
    "    with connection.cursor() as cursor:\n",
    "        sql = 'select calories, proteins, fats, carbohydrates from norm where user_id=(select id from users where name=%s)'\n",
    "        cursor.execute(sql, username)\n",
    "        return cursor.fetchone()\n"
   ]
  },
  {
   "cell_type": "code",
   "execution_count": null,
   "metadata": {
    "collapsed": true
   },
   "outputs": [],
   "source": [
    "d = {'name':'testtest', 'sex':1, 'weight':70, 'height':174}"
   ]
  },
  {
   "cell_type": "code",
   "execution_count": null,
   "metadata": {},
   "outputs": [],
   "source": [
    "reg_user(d)"
   ]
  },
  {
   "cell_type": "code",
   "execution_count": null,
   "metadata": {
    "collapsed": true
   },
   "outputs": [],
   "source": [
    "norm = {'calories': 2448.332, 'proteins': 244.88420000000002, 'fats': 54.418711111111115, 'carbohydrates': 244.88420000000002}"
   ]
  },
  {
   "cell_type": "code",
   "execution_count": null,
   "metadata": {
    "collapsed": true
   },
   "outputs": [],
   "source": [
    "set_usernorm('testtest', norm)"
   ]
  },
  {
   "cell_type": "code",
   "execution_count": null,
   "metadata": {},
   "outputs": [],
   "source": [
    "get_daily_report('skvgd')"
   ]
  },
  {
   "cell_type": "code",
   "execution_count": null,
   "metadata": {},
   "outputs": [],
   "source": [
    "get_daily_norm('testtest')"
   ]
  },
  {
   "cell_type": "code",
   "execution_count": null,
   "metadata": {
    "collapsed": true
   },
   "outputs": [],
   "source": [
    "d = [1]"
   ]
  },
  {
   "cell_type": "code",
   "execution_count": null,
   "metadata": {
    "collapsed": true
   },
   "outputs": [],
   "source": [
    "q,=d\n"
   ]
  },
  {
   "cell_type": "code",
   "execution_count": null,
   "metadata": {},
   "outputs": [],
   "source": [
    "q = {'qwe':'123'}\n"
   ]
  },
  {
   "cell_type": "code",
   "execution_count": null,
   "metadata": {},
   "outputs": [],
   "source": [
    "d = '{p[qwe]}'.format(p=q)"
   ]
  },
  {
   "cell_type": "code",
   "execution_count": null,
   "metadata": {},
   "outputs": [],
   "source": [
    "d"
   ]
  },
  {
   "cell_type": "code",
   "execution_count": null,
   "metadata": {},
   "outputs": [],
   "source": [
    "def get_ingredients_types():\n",
    "    with connection.cursor() as cursor:\n",
    "        sql = 'select distinct type from ingredients;'\n",
    "        cursor.execute(sql)\n",
    "        return [i['type'] for i in cursor.fetchall()]"
   ]
  },
  {
   "cell_type": "code",
   "execution_count": null,
   "metadata": {},
   "outputs": [],
   "source": [
    "'\\n'.join(q)"
   ]
  },
  {
   "cell_type": "code",
   "execution_count": null,
   "metadata": {},
   "outputs": [],
   "source": [
    "for i, j in enumerate(q):\n",
    "    print(i)\n",
    "    print(j)"
   ]
  },
  {
   "cell_type": "code",
   "execution_count": null,
   "metadata": {},
   "outputs": [],
   "source": [
    "def get_inrgediets_by_type(type):\n",
    "    with connection.cursor() as cursor:\n",
    "        sql = 'select name from ingredients where type=%s'\n",
    "        cursor.execute(sql, type)\n",
    "        return cursor.fetchall()"
   ]
  },
  {
   "cell_type": "code",
   "execution_count": null,
   "metadata": {},
   "outputs": [],
   "source": [
    "get_inrgediets_by_type('Напитки')"
   ]
  },
  {
   "cell_type": "code",
   "execution_count": null,
   "metadata": {},
   "outputs": [],
   "source": [
    "int('ds')"
   ]
  },
  {
   "cell_type": "code",
   "execution_count": null,
   "metadata": {
    "collapsed": true
   },
   "outputs": [],
   "source": [
    "def add_di(dish, ingredient, count):\n",
    "    with connection.cursor() as cursor:\n",
    "        sql = 'insert into d_i(dishes_id, ingredients_id, amount) values ((select id from dishes where name=%s), (select id from ingredients where name=%s), %s)'\n",
    "        cursor.execute(sql, (dish, ingredient, count))\n",
    "    connection.commit()"
   ]
  },
  {
   "cell_type": "code",
   "execution_count": null,
   "metadata": {},
   "outputs": [],
   "source": [
    "add_di('werw', 'Вермут 13% алкоголя', 50)"
   ]
  },
  {
   "cell_type": "code",
   "execution_count": null,
   "metadata": {
    "collapsed": true
   },
   "outputs": [],
   "source": [
    "s = '1 23123'"
   ]
  },
  {
   "cell_type": "code",
   "execution_count": null,
   "metadata": {},
   "outputs": [],
   "source": [
    "s.split(' ')"
   ]
  },
  {
   "cell_type": "code",
   "execution_count": 25,
   "metadata": {},
   "outputs": [],
   "source": [
    "def is_dish_exist(dishname):\n",
    "    with connection.cursor() as cursor:\n",
    "        sql = 'select count(*) from dishes where name=%s'\n",
    "        cursor.execute(sql, dishname)\n",
    "        return cursor.fetchone()['count(*)'] != 0"
   ]
  },
  {
   "cell_type": "code",
   "execution_count": 26,
   "metadata": {},
   "outputs": [
    {
     "data": {
      "text/plain": [
       "True"
      ]
     },
     "execution_count": 26,
     "metadata": {},
     "output_type": "execute_result"
    }
   ],
   "source": [
    "is_dish_exist('qwe')"
   ]
  },
  {
   "cell_type": "code",
   "execution_count": 75,
   "metadata": {
    "collapsed": true
   },
   "outputs": [],
   "source": [
    "def calc_dish_features(dishname):\n",
    "    with connection.cursor() as cursor:\n",
    "        sql = 'select sum(i.calories*di.amount/100) as cal, sum(i.proteins*di.amount/100) as p, \\\n",
    "        sum(i.fats*di.amount/100) as f , sum(i.carbohydrates*di.amount/100) as carb from ingredients  as i join d_i as di join dishes as d on  \\\n",
    "        i.id=di.ingredients_id and d.id=di.dishes_id where d.name=%s'\n",
    "        cursor.execute(sql, dishname)\n",
    "        return cursor.fetchall()[0]"
   ]
  },
  {
   "cell_type": "code",
   "execution_count": 76,
   "metadata": {},
   "outputs": [
    {
     "data": {
      "text/plain": [
       "{'cal': 430.66999999999996, 'carb': 12.3, 'f': 11.4, 'p': 38.7}"
      ]
     },
     "execution_count": 76,
     "metadata": {},
     "output_type": "execute_result"
    }
   ],
   "source": [
    "calc_dish_features('qwe')"
   ]
  },
  {
   "cell_type": "code",
   "execution_count": 77,
   "metadata": {
    "collapsed": true
   },
   "outputs": [],
   "source": [
    "c = {'cal': 430.66999999999996, 'carb': 12.3, 'f': 11.4, 'p': 38.7}\n"
   ]
  },
  {
   "cell_type": "code",
   "execution_count": 79,
   "metadata": {},
   "outputs": [],
   "source": [
    "cc = {'cal': 100, 'carb': 100, 'f': 11.4, 'p': 38.7}"
   ]
  },
  {
   "cell_type": "code",
   "execution_count": 81,
   "metadata": {},
   "outputs": [
    {
     "ename": "TypeError",
     "evalue": "unsupported operand type(s) for +: 'dict' and 'dict'",
     "output_type": "error",
     "traceback": [
      "\u001b[0;31m---------------------------------------------------------------------------\u001b[0m",
      "\u001b[0;31mTypeError\u001b[0m                                 Traceback (most recent call last)",
      "\u001b[0;32m<ipython-input-81-43bab28b045f>\u001b[0m in \u001b[0;36m<module>\u001b[0;34m()\u001b[0m\n\u001b[0;32m----> 1\u001b[0;31m \u001b[0mc\u001b[0m\u001b[0;34m+\u001b[0m\u001b[0mcc\u001b[0m\u001b[0;34m\u001b[0m\u001b[0m\n\u001b[0m",
      "\u001b[0;31mTypeError\u001b[0m: unsupported operand type(s) for +: 'dict' and 'dict'"
     ]
    }
   ],
   "source": [
    "c+cc"
   ]
  },
  {
   "cell_type": "code",
   "execution_count": 98,
   "metadata": {
    "collapsed": true
   },
   "outputs": [],
   "source": [
    "ddd = {'calories':'1000', 'proteins':'1111', 'fats':'2222', 'carbohydrates':'3333'}"
   ]
  },
  {
   "cell_type": "code",
   "execution_count": 105,
   "metadata": {},
   "outputs": [],
   "source": [
    "def update_users_features(username, features):\n",
    "    with connection.cursor() as cursor:\n",
    "        sql = 'update users set calories=%s, proteins=%s, fats=%s, carbohydrates=%s where name=%s'\n",
    "        cursor.execute(sql, (features['calories'], features['proteins'], features['fats'], features['carbohydrates'], username))\n",
    "    connection.commit()"
   ]
  },
  {
   "cell_type": "code",
   "execution_count": 106,
   "metadata": {},
   "outputs": [],
   "source": [
    "update_users_features('skvgd', {'calories':'1000', 'proteins':'1111', 'fats':'2222', 'carbohydrates':'3333'})"
   ]
  },
  {
   "cell_type": "code",
   "execution_count": null,
   "metadata": {
    "collapsed": true
   },
   "outputs": [],
   "source": []
  }
 ],
 "metadata": {
  "kernelspec": {
   "display_name": "Python 3",
   "language": "python",
   "name": "python3"
  },
  "language_info": {
   "codemirror_mode": {
    "name": "ipython",
    "version": 3
   },
   "file_extension": ".py",
   "mimetype": "text/x-python",
   "name": "python",
   "nbconvert_exporter": "python",
   "pygments_lexer": "ipython3",
   "version": "3.6.3"
  }
 },
 "nbformat": 4,
 "nbformat_minor": 2
}
